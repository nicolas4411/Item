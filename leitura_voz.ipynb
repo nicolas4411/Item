{
  "nbformat": 4,
  "nbformat_minor": 0,
  "metadata": {
    "colab": {
      "provenance": [],
      "authorship_tag": "ABX9TyOily03W7FMtSXkp0P7EwJy",
      "include_colab_link": true
    },
    "kernelspec": {
      "name": "python3",
      "display_name": "Python 3"
    },
    "language_info": {
      "name": "python"
    }
  },
  "cells": [
    {
      "cell_type": "markdown",
      "metadata": {
        "id": "view-in-github",
        "colab_type": "text"
      },
      "source": [
        "<a href=\"https://colab.research.google.com/github/nicolas4411/Item/blob/main/leitura_voz.ipynb\" target=\"_parent\"><img src=\"https://colab.research.google.com/assets/colab-badge.svg\" alt=\"Open In Colab\"/></a>"
      ]
    },
    {
      "cell_type": "code",
      "execution_count": 1,
      "metadata": {
        "colab": {
          "base_uri": "https://localhost:8080/"
        },
        "id": "vpQFTreZ1OXq",
        "outputId": "502c26bd-477e-4f52-c885-4253cccd7e37"
      },
      "outputs": [
        {
          "output_type": "stream",
          "name": "stdout",
          "text": [
            "Collecting SpeechRecognition\n",
            "  Downloading SpeechRecognition-3.11.0-py2.py3-none-any.whl.metadata (28 kB)\n",
            "Requirement already satisfied: requests>=2.26.0 in /usr/local/lib/python3.10/dist-packages (from SpeechRecognition) (2.32.3)\n",
            "Requirement already satisfied: typing-extensions in /usr/local/lib/python3.10/dist-packages (from SpeechRecognition) (4.12.2)\n",
            "Requirement already satisfied: charset-normalizer<4,>=2 in /usr/local/lib/python3.10/dist-packages (from requests>=2.26.0->SpeechRecognition) (3.4.0)\n",
            "Requirement already satisfied: idna<4,>=2.5 in /usr/local/lib/python3.10/dist-packages (from requests>=2.26.0->SpeechRecognition) (3.10)\n",
            "Requirement already satisfied: urllib3<3,>=1.21.1 in /usr/local/lib/python3.10/dist-packages (from requests>=2.26.0->SpeechRecognition) (2.2.3)\n",
            "Requirement already satisfied: certifi>=2017.4.17 in /usr/local/lib/python3.10/dist-packages (from requests>=2.26.0->SpeechRecognition) (2024.8.30)\n",
            "Downloading SpeechRecognition-3.11.0-py2.py3-none-any.whl (32.8 MB)\n",
            "\u001b[2K   \u001b[90m━━━━━━━━━━━━━━━━━━━━━━━━━━━━━━━━━━━━━━━━\u001b[0m \u001b[32m32.8/32.8 MB\u001b[0m \u001b[31m24.5 MB/s\u001b[0m eta \u001b[36m0:00:00\u001b[0m\n",
            "\u001b[?25hInstalling collected packages: SpeechRecognition\n",
            "Successfully installed SpeechRecognition-3.11.0\n"
          ]
        }
      ],
      "source": [
        "!pip install SpeechRecognition"
      ]
    },
    {
      "cell_type": "code",
      "source": [
        "import wave\n",
        "\n",
        "# Nome do arquivo de áudio a ser transcrito\n",
        "arquivo_audio = \"audio4.wav\"  # Altere para o nome do arquivo de áudio que você possui\n",
        "\n",
        "try:\n",
        "    with wave.open(arquivo_audio, \"rb\") as wf:\n",
        "        # Realize operações com o arquivo de áudio aqui\n",
        "        print(\"Arquivo de áudio aberto com sucesso!\")\n",
        "except Exception as e:\n",
        "    print(\"Erro ao abrir o arquivo de áudio:\", e)"
      ],
      "metadata": {
        "colab": {
          "base_uri": "https://localhost:8080/"
        },
        "id": "pbc8u72j1m5k",
        "outputId": "e3eaa0a3-6990-4b0e-f347-f5d84aee1f38"
      },
      "execution_count": 2,
      "outputs": [
        {
          "output_type": "stream",
          "name": "stdout",
          "text": [
            "Arquivo de áudio aberto com sucesso!\n"
          ]
        }
      ]
    },
    {
      "cell_type": "code",
      "source": [
        "import speech_recognition as sr\n",
        "\n",
        "def transcrever_audio(arquivo):\n",
        "    recognizer = sr.Recognizer()\n",
        "\n",
        "    with sr.AudioFile(arquivo) as source:\n",
        "        audio_data = recognizer.record(source)\n",
        "\n",
        "    try:\n",
        "        texto_transcrito = recognizer.recognize_google(audio_data, language=\"pt-BR\")\n",
        "        print(\"Texto transcrito:\", texto_transcrito)\n",
        "    except sr.UnknownValueError:\n",
        "        print(\"Não foi possível entender a fala\")\n",
        "    except sr.RequestError as e:\n",
        "        print(\"Erro ao solicitar a API do Google Speech Recognition; {0}\".format(e))\n",
        "\n",
        "# Nome do arquivo de áudio a ser transcrito\n",
        "arquivo_audio = \"audio4.wav\"  # Altere para o nome do arquivo de áudio que você possui\n",
        "\n",
        "# Realizar o reconhecimento de fala\n",
        "transcrever_audio(arquivo_audio)"
      ],
      "metadata": {
        "colab": {
          "base_uri": "https://localhost:8080/"
        },
        "id": "yulHGIaS14mh",
        "outputId": "56102768-a45b-40a8-af8a-9b7e3a5a96d2"
      },
      "execution_count": 4,
      "outputs": [
        {
          "output_type": "stream",
          "name": "stdout",
          "text": [
            "Texto transcrito: detonando em 321\n"
          ]
        }
      ]
    },
    {
      "cell_type": "code",
      "source": [
        "import speech_recognition as sr\n",
        "\n",
        "def transcrever_audio(arquivo):\n",
        "    recognizer = sr.Recognizer()\n",
        "\n",
        "    with sr.AudioFile(arquivo) as source:\n",
        "        audio_data = recognizer.record(source)\n",
        "\n",
        "    try:\n",
        "        texto_transcrito = recognizer.recognize_google(audio_data, language=\"pt-BR\")\n",
        "        print(\"Texto transcrito:\", texto_transcrito)\n",
        "    except sr.UnknownValueError:\n",
        "        print(\"Não foi possível entender a fala\")\n",
        "    except sr.RequestError as e:\n",
        "        print(\"Erro ao solicitar a API do Google Speech Recognition; {0}\".format(e))\n",
        "\n",
        "# Nome do arquivo de áudio a ser transcrito\n",
        "arquivo_audio = \"audio4.wav\"  # Altere para o nome do arquivo de áudio que você possui\n",
        "\n",
        "# Realizar o reconhecimento de fala\n",
        "transcrever_audio(arquivo_audio)\n"
      ],
      "metadata": {
        "colab": {
          "base_uri": "https://localhost:8080/"
        },
        "outputId": "55c72f31-2c30-48ee-b162-9699ca47482c",
        "id": "uiyNdUeK2Zas"
      },
      "execution_count": 9,
      "outputs": [
        {
          "output_type": "stream",
          "name": "stdout",
          "text": [
            "Texto transcrito: detonando em 321\n"
          ]
        }
      ]
    }
  ]
}